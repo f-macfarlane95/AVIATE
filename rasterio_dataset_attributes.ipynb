{
 "cells": [
  {
   "cell_type": "code",
   "execution_count": 3,
   "id": "8a9a71a0-fe60-431b-93ef-50814f2e34f3",
   "metadata": {},
   "outputs": [],
   "source": [
    "import fiona\n",
    "\n",
    "import rasterio\n",
    "import rasterio.mask\n",
    "from rasterio.plot import show\n",
    "\n",
    "fp1 = r'Data/AVIATE 15July21 50ft half image size_mosaic_red.tif'\n",
    "img1 = rasterio.open(fp1)"
   ]
  },
  {
   "cell_type": "code",
   "execution_count": 4,
   "id": "f7d764ef-9473-44b0-9d0b-06e955deb0d9",
   "metadata": {},
   "outputs": [
    {
     "name": "stdout",
     "output_type": "stream",
     "text": [
      "[(1, 4805)]\n",
      "BoundingBox(left=491534.14103000006, bottom=6260174.42104, right=491569.93828000006, top=6260223.8666900005)\n",
      "False\n",
      "(<ColorInterp.gray: 1>,)\n",
      "Compression.lzw\n",
      "1\n",
      "EPSG:32630\n",
      "(None,)\n",
      "GTiff\n",
      "('uint16',)\n",
      "['Data/AVIATE 15July21 50ft half image size_mosaic_red.tif', 'Data/AVIATE 15July21 50ft half image size_mosaic_red.tif.aux.xml']\n",
      "([], None)\n",
      "6637\n",
      "(1,)\n",
      "Interleaving.band\n",
      "False\n",
      "([<MaskFlags.all_valid: 1>],)\n",
      "{'driver': 'GTiff', 'dtype': 'uint16', 'nodata': None, 'width': 4805, 'height': 6637, 'count': 1, 'crs': CRS.from_epsg(32630), 'transform': Affine(0.007450000000000001, 0.0, 491534.14103000006,\n",
      "       0.0, -0.007450000000000001, 6260223.8666900005)}\n",
      "r\n",
      "Data/AVIATE 15July21 50ft half image size_mosaic_red.tif\n",
      "None\n",
      "(None,)\n",
      "(0.0,)\n",
      "{}\n",
      "None\n",
      "{'driver': 'GTiff', 'dtype': 'uint16', 'nodata': None, 'width': 4805, 'height': 6637, 'count': 1, 'crs': CRS.from_epsg(32630), 'transform': Affine(0.007450000000000001, 0.0, 491534.14103000006,\n",
      "       0.0, -0.007450000000000001, 6260223.8666900005), 'tiled': False, 'compress': 'lzw', 'interleave': 'band'}\n",
      "(0.007450000000000001, 0.007450000000000001)\n",
      "None\n",
      "(1.0,)\n",
      "(6637, 4805)\n",
      "[]\n",
      "| 0.01, 0.00, 491534.14|\n",
      "| 0.00,-0.01, 6260223.87|\n",
      "| 0.00, 0.00, 1.00|\n",
      "(None,)\n",
      "4805\n",
      "False\n"
     ]
    }
   ],
   "source": [
    "print(img1.block_shapes)\n",
    "print(img1.bounds)\n",
    "print(img1.closed)\n",
    "print(img1.colorinterp)\n",
    "print(img1.compression)\n",
    "print(img1.count)\n",
    "print(img1.crs)\n",
    "print(img1.descriptions)\n",
    "print(img1.driver)\n",
    "print(img1.dtypes)\n",
    "print(img1.files)\n",
    "print(img1.gcps)\n",
    "print(img1.height)\n",
    "print(img1.indexes)\n",
    "print(img1.interleaving)\n",
    "print(img1.is_tiled)\n",
    "print(img1.mask_flag_enums)\n",
    "print(img1.meta)\n",
    "print(img1.mode)\n",
    "print(img1.name)\n",
    "print(img1.nodata)\n",
    "print(img1.nodatavals)\n",
    "print(img1.offsets)\n",
    "print(img1.options)\n",
    "print(img1.photometric)\n",
    "print(img1.profile)\n",
    "print(img1.res)\n",
    "print(img1.rpcs)\n",
    "print(img1.scales)\n",
    "print(img1.shape)\n",
    "print(img1.subdatasets)\n",
    "print(img1.transform)\n",
    "print(img1.units)\n",
    "print(img1.width)\n",
    "\n",
    "try:\n",
    "    img1.black_shapes\n",
    "    print(True)\n",
    "except:\n",
    "    print(False)"
   ]
  },
  {
   "cell_type": "code",
   "execution_count": null,
   "id": "4dc93674-a59a-466f-a0c4-285dfa8d2f24",
   "metadata": {},
   "outputs": [],
   "source": []
  }
 ],
 "metadata": {
  "kernelspec": {
   "display_name": "AVIATE",
   "language": "python",
   "name": "aviate"
  },
  "language_info": {
   "codemirror_mode": {
    "name": "ipython",
    "version": 3
   },
   "file_extension": ".py",
   "mimetype": "text/x-python",
   "name": "python",
   "nbconvert_exporter": "python",
   "pygments_lexer": "ipython3",
   "version": "3.10.4"
  }
 },
 "nbformat": 4,
 "nbformat_minor": 5
}
